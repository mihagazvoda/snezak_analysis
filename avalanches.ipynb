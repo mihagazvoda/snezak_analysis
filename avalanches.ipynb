{
 "cells": [
  {
   "cell_type": "code",
   "execution_count": 1,
   "metadata": {
    "collapsed": true
   },
   "outputs": [],
   "source": [
    "import requests\n",
    "from bs4 import BeautifulSoup\n",
    "import pandas as pd\n",
    "import matplotlib.pyplot as plt\n",
    "from tqdm import tqdm_notebook\n",
    "%matplotlib notebook"
   ]
  },
  {
   "cell_type": "code",
   "execution_count": 2,
   "metadata": {
    "collapsed": true
   },
   "outputs": [],
   "source": [
    "main_url = 'https://www.snezak.si/plazovi'\n",
    "avalanche_url = '/?date=season&startDate=&endDate='\n",
    "c = requests.get(main_url+avalanche_url).content\n",
    "soup = BeautifulSoup(c, 'lxml')"
   ]
  },
  {
   "cell_type": "code",
   "execution_count": 3,
   "metadata": {},
   "outputs": [
    {
     "data": {
      "application/vnd.jupyter.widget-view+json": {
       "model_id": "b02dfa5d367e4abdaf35e963539d26a5",
       "version_major": 2,
       "version_minor": 0
      },
      "text/plain": [
       "A Jupyter Widget"
      ]
     },
     "metadata": {},
     "output_type": "display_data"
    },
    {
     "name": "stdout",
     "output_type": "stream",
     "text": [
      "\n"
     ]
    }
   ],
   "source": [
    "locations = []\n",
    "dates = []\n",
    "participants = []\n",
    "hurt_participants = []\n",
    "dead_participants = []\n",
    "\n",
    "for section in tqdm_notebook(soup.select('section.post-item')):\n",
    "    specific_avalanche = section.select_one('a')['href']\n",
    "    \n",
    "    c = requests.get(main_url+specific_avalanche).content\n",
    "    fresh_soup = BeautifulSoup(c, 'lxml')\n",
    "    \n",
    "    locations.append(fresh_soup.find('div', class_='route').text)\n",
    "    dates.append(fresh_soup.find('time')['datetime'])\n",
    "    \n",
    "    for rate in fresh_soup.find_all('div', class_= 'rate'):\n",
    "        n = rate.text.split()[-1]\n",
    "        \n",
    "        try:\n",
    "            n = int(n)\n",
    "        except ValueError:\n",
    "            n = -1\n",
    "            \n",
    "        if rate.find(class_='title').text == 'Število udeleženih oseb':\n",
    "            participants.append(n)\n",
    "        if rate.find(class_='title').text == 'Število poškodovanih oseb':\n",
    "            hurt_participants.append(n)\n",
    "        if rate.find(class_='title').text == 'Število žrtev':\n",
    "            dead_participants.append(n)"
   ]
  },
  {
   "cell_type": "code",
   "execution_count": 7,
   "metadata": {
    "collapsed": true
   },
   "outputs": [],
   "source": [
    "df = pd.DataFrame({'date': dates,\n",
    "             'n': participants,\n",
    "             'n_hurt': hurt_participants,\n",
    "             'n_dead': dead_participants})"
   ]
  },
  {
   "cell_type": "code",
   "execution_count": 8,
   "metadata": {
    "collapsed": true
   },
   "outputs": [],
   "source": [
    "df[['region', 'location']] = pd.Series(locations).str.split(\n",
    "    ' - ', expand=True).loc[:, :1].apply(lambda x: x.str.strip())"
   ]
  },
  {
   "cell_type": "code",
   "execution_count": 9,
   "metadata": {},
   "outputs": [
    {
     "data": {
      "text/html": [
       "<div>\n",
       "<style>\n",
       "    .dataframe thead tr:only-child th {\n",
       "        text-align: right;\n",
       "    }\n",
       "\n",
       "    .dataframe thead th {\n",
       "        text-align: left;\n",
       "    }\n",
       "\n",
       "    .dataframe tbody tr th {\n",
       "        vertical-align: top;\n",
       "    }\n",
       "</style>\n",
       "<table border=\"1\" class=\"dataframe\">\n",
       "  <thead>\n",
       "    <tr style=\"text-align: right;\">\n",
       "      <th></th>\n",
       "      <th>date</th>\n",
       "      <th>n</th>\n",
       "      <th>n_dead</th>\n",
       "      <th>n_hurt</th>\n",
       "      <th>region</th>\n",
       "      <th>location</th>\n",
       "    </tr>\n",
       "  </thead>\n",
       "  <tbody>\n",
       "    <tr>\n",
       "      <th>0</th>\n",
       "      <td>2018-04-21</td>\n",
       "      <td>0</td>\n",
       "      <td>0</td>\n",
       "      <td>0</td>\n",
       "      <td>Kamniško-Savinjske Alpe</td>\n",
       "      <td>Planjava, Planjavske zelenice</td>\n",
       "    </tr>\n",
       "    <tr>\n",
       "      <th>1</th>\n",
       "      <td>2018-04-21</td>\n",
       "      <td>-1</td>\n",
       "      <td>-1</td>\n",
       "      <td>-1</td>\n",
       "      <td>Julijske Alpe</td>\n",
       "      <td>Kopišča pod Dolkovo glavo</td>\n",
       "    </tr>\n",
       "    <tr>\n",
       "      <th>2</th>\n",
       "      <td>2018-04-21</td>\n",
       "      <td>-1</td>\n",
       "      <td>-1</td>\n",
       "      <td>-1</td>\n",
       "      <td>Julijske Alpe</td>\n",
       "      <td>s Križa v dolino pod Stenarskimi vratci</td>\n",
       "    </tr>\n",
       "    <tr>\n",
       "      <th>3</th>\n",
       "      <td>2018-04-20</td>\n",
       "      <td>-1</td>\n",
       "      <td>-1</td>\n",
       "      <td>-1</td>\n",
       "      <td>Julijske Alpe</td>\n",
       "      <td>Cmir JV pobočje</td>\n",
       "    </tr>\n",
       "    <tr>\n",
       "      <th>4</th>\n",
       "      <td>2018-04-17</td>\n",
       "      <td>-1</td>\n",
       "      <td>-1</td>\n",
       "      <td>-1</td>\n",
       "      <td>Julijske Alpe</td>\n",
       "      <td>Bohinjsko-Tolminski greben, Vrh Planje, južno ...</td>\n",
       "    </tr>\n",
       "  </tbody>\n",
       "</table>\n",
       "</div>"
      ],
      "text/plain": [
       "         date  n  n_dead  n_hurt                   region  \\\n",
       "0  2018-04-21  0       0       0  Kamniško-Savinjske Alpe   \n",
       "1  2018-04-21 -1      -1      -1            Julijske Alpe   \n",
       "2  2018-04-21 -1      -1      -1            Julijske Alpe   \n",
       "3  2018-04-20 -1      -1      -1            Julijske Alpe   \n",
       "4  2018-04-17 -1      -1      -1            Julijske Alpe   \n",
       "\n",
       "                                            location  \n",
       "0                      Planjava, Planjavske zelenice  \n",
       "1                          Kopišča pod Dolkovo glavo  \n",
       "2            s Križa v dolino pod Stenarskimi vratci  \n",
       "3                                    Cmir JV pobočje  \n",
       "4  Bohinjsko-Tolminski greben, Vrh Planje, južno ...  "
      ]
     },
     "execution_count": 9,
     "metadata": {},
     "output_type": "execute_result"
    }
   ],
   "source": [
    "df.head()"
   ]
  },
  {
   "cell_type": "code",
   "execution_count": null,
   "metadata": {
    "collapsed": true
   },
   "outputs": [],
   "source": []
  }
 ],
 "metadata": {
  "kernelspec": {
   "display_name": "Python 3",
   "language": "python",
   "name": "python3"
  },
  "language_info": {
   "codemirror_mode": {
    "name": "ipython",
    "version": 3
   },
   "file_extension": ".py",
   "mimetype": "text/x-python",
   "name": "python",
   "nbconvert_exporter": "python",
   "pygments_lexer": "ipython3",
   "version": "3.6.3"
  }
 },
 "nbformat": 4,
 "nbformat_minor": 2
}
