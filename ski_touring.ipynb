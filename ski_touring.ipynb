{
 "cells": [
  {
   "cell_type": "code",
   "execution_count": 216,
   "metadata": {
    "collapsed": true
   },
   "outputs": [],
   "source": [
    "import requests\n",
    "from bs4 import BeautifulSoup\n",
    "import pandas as pd\n",
    "import matplotlib.pyplot as plt\n",
    "%matplotlib notebook"
   ]
  },
  {
   "cell_type": "code",
   "execution_count": 223,
   "metadata": {},
   "outputs": [],
   "source": [
    "webpage = 'https://www.snezak.si/razmere/?date=season&startDate=&endDate=&conditionsMin=1&conditionsMax=5&safetyMin=1&safetyMax=5'\n",
    "r = requests.get(webpage)\n",
    "c = r.content\n",
    "soup = BeautifulSoup(c, 'lxml')"
   ]
  },
  {
   "cell_type": "code",
   "execution_count": 218,
   "metadata": {},
   "outputs": [],
   "source": [
    "# find classes in soup\n",
    "get_routes = soup.find_all('div', class_ = \"route\")\n",
    "get_authors = soup.find_all('div', class_ = \"author\")\n",
    "get_dates = soup.find_all('time')\n",
    "get_ratings = soup.find_all('div', class_= 'rate')"
   ]
  },
  {
   "cell_type": "code",
   "execution_count": 255,
   "metadata": {},
   "outputs": [],
   "source": [
    "# get data\n",
    "routes = [x.text.translate({ord('\\t'): None, ord('\\n'): None}) for x in get_routes]\n",
    "authors = [x.text.translate({ord('\\t'): None, ord('\\n'): None}) for x in get_authors]\n",
    "dates = [i['datetime'] for i in get_dates if i.has_attr('datetime')]\n",
    "condition_ratings = [len(x.find_all('img')) for x in get_ratings if x.find(class_= 'title').text == 'Smučarske razmere']\n",
    "safety_ratings = [len(x.find_all('img')) for x in get_ratings if x.find(class_= 'title').text == 'Občutek varnosti']"
   ]
  },
  {
   "cell_type": "code",
   "execution_count": 256,
   "metadata": {},
   "outputs": [],
   "source": [
    "df = pd.DataFrame({'author': authors, 'date': dates, \n",
    "                   'safety': safety_ratings, 'conditions': condition_ratings})\n",
    "\n",
    "df['date'] = pd.to_datetime(df['date'])\n",
    "\n",
    "df[['region','mountain']] = pd.Series(routes).str.split('|',expand=True).loc[:,:1].apply(lambda x: x.str.strip())\n",
    "\n",
    "df = df[['date','author','region','mountain','conditions','safety']]"
   ]
  },
  {
   "cell_type": "code",
   "execution_count": 257,
   "metadata": {},
   "outputs": [
    {
     "data": {
      "text/html": [
       "<div>\n",
       "<style>\n",
       "    .dataframe thead tr:only-child th {\n",
       "        text-align: right;\n",
       "    }\n",
       "\n",
       "    .dataframe thead th {\n",
       "        text-align: left;\n",
       "    }\n",
       "\n",
       "    .dataframe tbody tr th {\n",
       "        vertical-align: top;\n",
       "    }\n",
       "</style>\n",
       "<table border=\"1\" class=\"dataframe\">\n",
       "  <thead>\n",
       "    <tr style=\"text-align: right;\">\n",
       "      <th></th>\n",
       "      <th>date</th>\n",
       "      <th>author</th>\n",
       "      <th>region</th>\n",
       "      <th>mountain</th>\n",
       "      <th>conditions</th>\n",
       "      <th>safety</th>\n",
       "    </tr>\n",
       "  </thead>\n",
       "  <tbody>\n",
       "    <tr>\n",
       "      <th>0</th>\n",
       "      <td>2018-05-19</td>\n",
       "      <td>Marijana &amp; Marko</td>\n",
       "      <td>Visoke Ture</td>\n",
       "      <td>Fuscherkarkopf</td>\n",
       "      <td>3</td>\n",
       "      <td>2</td>\n",
       "    </tr>\n",
       "    <tr>\n",
       "      <th>1</th>\n",
       "      <td>2018-05-19</td>\n",
       "      <td>Barbara Dekleva Jenčič</td>\n",
       "      <td>Visoke Ture</td>\n",
       "      <td>Kölnbreinspitze</td>\n",
       "      <td>5</td>\n",
       "      <td>4</td>\n",
       "    </tr>\n",
       "    <tr>\n",
       "      <th>2</th>\n",
       "      <td>2018-05-17</td>\n",
       "      <td>Primoz Vrhovnik</td>\n",
       "      <td>Julijske Alpe</td>\n",
       "      <td>Jugova grapa</td>\n",
       "      <td>4</td>\n",
       "      <td>5</td>\n",
       "    </tr>\n",
       "    <tr>\n",
       "      <th>3</th>\n",
       "      <td>2018-05-13</td>\n",
       "      <td>Marijana &amp; Marko</td>\n",
       "      <td>Visoke Ture</td>\n",
       "      <td>Racherin</td>\n",
       "      <td>3</td>\n",
       "      <td>4</td>\n",
       "    </tr>\n",
       "    <tr>\n",
       "      <th>4</th>\n",
       "      <td>2018-05-13</td>\n",
       "      <td>Barbara Dekleva Jenčič</td>\n",
       "      <td>Visoke Ture</td>\n",
       "      <td>Oberlercher Spitze</td>\n",
       "      <td>4</td>\n",
       "      <td>5</td>\n",
       "    </tr>\n",
       "  </tbody>\n",
       "</table>\n",
       "</div>"
      ],
      "text/plain": [
       "        date                  author         region            mountain  \\\n",
       "0 2018-05-19        Marijana & Marko    Visoke Ture      Fuscherkarkopf   \n",
       "1 2018-05-19  Barbara Dekleva Jenčič    Visoke Ture     Kölnbreinspitze   \n",
       "2 2018-05-17         Primoz Vrhovnik  Julijske Alpe        Jugova grapa   \n",
       "3 2018-05-13        Marijana & Marko    Visoke Ture            Racherin   \n",
       "4 2018-05-13  Barbara Dekleva Jenčič    Visoke Ture  Oberlercher Spitze   \n",
       "\n",
       "   conditions  safety  \n",
       "0           3       2  \n",
       "1           5       4  \n",
       "2           4       5  \n",
       "3           3       4  \n",
       "4           4       5  "
      ]
     },
     "execution_count": 257,
     "metadata": {},
     "output_type": "execute_result"
    }
   ],
   "source": [
    "df.head()"
   ]
  },
  {
   "cell_type": "code",
   "execution_count": 243,
   "metadata": {
    "collapsed": true
   },
   "outputs": [],
   "source": [
    "# tested 20/80 rule for reports from different authors. Top 20% of authors post 66% of articles."
   ]
  }
 ],
 "metadata": {
  "kernelspec": {
   "display_name": "Python 3",
   "language": "python",
   "name": "python3"
  },
  "language_info": {
   "codemirror_mode": {
    "name": "ipython",
    "version": 3
   },
   "file_extension": ".py",
   "mimetype": "text/x-python",
   "name": "python",
   "nbconvert_exporter": "python",
   "pygments_lexer": "ipython3",
   "version": "3.6.3"
  }
 },
 "nbformat": 4,
 "nbformat_minor": 2
}
